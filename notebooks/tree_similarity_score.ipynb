{
 "cells": [
  {
   "cell_type": "code",
   "execution_count": 1,
   "metadata": {},
   "outputs": [],
   "source": [
    "import os, sys\n",
    "sys.path.insert(0, './../')"
   ]
  },
  {
   "cell_type": "code",
   "execution_count": 2,
   "metadata": {},
   "outputs": [],
   "source": [
    "import pandas as pd\n",
    "from src.parsers.t5parser import T5Parser\n",
    "from src.utils.ted_utils import StatementTree, TSS\n",
    "# from utils.tree_utils import T/\n",
    "parser = T5Parser('ud2sd_table')"
   ]
  },
  {
   "cell_type": "markdown",
   "metadata": {},
   "source": [
    "# Example Statement Trees"
   ]
  },
  {
   "cell_type": "code",
   "execution_count": 3,
   "metadata": {},
   "outputs": [],
   "source": [
    "example_prediction = ['| subject | property | property_value | subject_value | \\n |-----------|-------------------|------------------|-----------------| \\n | | scope 1 emissions | 5,558 | | \\n | | unit | mt | | \\n | | other | 2021 | | ',\n",
    " ' | subject | property | property_value | subject_value | \\n |-----------|-------------------|------------------|-----------------| \\n | | scope 2 emissions | 41,757 | | \\n | | unit | mt | | \\n | | other | 2021 | |']"
   ]
  },
  {
   "cell_type": "code",
   "execution_count": 4,
   "metadata": {},
   "outputs": [
    {
     "data": {
      "text/html": [
       "<div>\n",
       "<style scoped>\n",
       "    .dataframe tbody tr th:only-of-type {\n",
       "        vertical-align: middle;\n",
       "    }\n",
       "\n",
       "    .dataframe tbody tr th {\n",
       "        vertical-align: top;\n",
       "    }\n",
       "\n",
       "    .dataframe thead th {\n",
       "        text-align: right;\n",
       "    }\n",
       "</style>\n",
       "<table border=\"1\" class=\"dataframe\">\n",
       "  <thead>\n",
       "    <tr style=\"text-align: right;\">\n",
       "      <th></th>\n",
       "      <th>subject</th>\n",
       "      <th>property</th>\n",
       "      <th>property_value</th>\n",
       "      <th>subject_value</th>\n",
       "    </tr>\n",
       "  </thead>\n",
       "  <tbody>\n",
       "    <tr>\n",
       "      <th>0</th>\n",
       "      <td>NaN</td>\n",
       "      <td>scope 1 emissions</td>\n",
       "      <td>5,558</td>\n",
       "      <td>NaN</td>\n",
       "    </tr>\n",
       "    <tr>\n",
       "      <th>1</th>\n",
       "      <td>NaN</td>\n",
       "      <td>unit</td>\n",
       "      <td>mt</td>\n",
       "      <td>NaN</td>\n",
       "    </tr>\n",
       "    <tr>\n",
       "      <th>2</th>\n",
       "      <td>NaN</td>\n",
       "      <td>other</td>\n",
       "      <td>2021</td>\n",
       "      <td>NaN</td>\n",
       "    </tr>\n",
       "  </tbody>\n",
       "</table>\n",
       "</div>"
      ],
      "text/plain": [
       "  subject           property property_value subject_value\n",
       "0     NaN  scope 1 emissions          5,558           NaN\n",
       "1     NaN               unit             mt           NaN\n",
       "2     NaN              other           2021           NaN"
      ]
     },
     "execution_count": 4,
     "metadata": {},
     "output_type": "execute_result"
    }
   ],
   "source": [
    "# Let's look at one of the statement\n",
    "df = parser.convert_markdown_to_dataframe(example_prediction[0])\n",
    "df"
   ]
  },
  {
   "cell_type": "code",
   "execution_count": 5,
   "metadata": {},
   "outputs": [
    {
     "name": "stdout",
     "output_type": "stream",
     "text": [
      "Node('/root', type='root', value=None)\n",
      "├── Node('/root/s0', type='statement', value=None)\n",
      "│   ├── Node('/root/s0/p0', type='predicate', value=None)\n",
      "│   │   ├── Node('/root/s0/p0/subject', type='subject', value=nan)\n",
      "│   │   ├── Node('/root/s0/p0/property', type='property', value='scope 1 emissions')\n",
      "│   │   ├── Node('/root/s0/p0/property_value', type='property_value', value='5,558')\n",
      "│   │   └── Node('/root/s0/p0/subject_value', type='subject_value', value=nan)\n",
      "│   ├── Node('/root/s0/p1', type='predicate', value=None)\n",
      "│   │   ├── Node('/root/s0/p1/subject', type='subject', value=nan)\n",
      "│   │   ├── Node('/root/s0/p1/property', type='property', value='unit')\n",
      "│   │   ├── Node('/root/s0/p1/property_value', type='property_value', value='mt')\n",
      "│   │   └── Node('/root/s0/p1/subject_value', type='subject_value', value=nan)\n",
      "│   └── Node('/root/s0/p2', type='predicate', value=None)\n",
      "│       ├── Node('/root/s0/p2/subject', type='subject', value=nan)\n",
      "│       ├── Node('/root/s0/p2/property', type='property', value='other')\n",
      "│       ├── Node('/root/s0/p2/property_value', type='property_value', value='2021')\n",
      "│       └── Node('/root/s0/p2/subject_value', type='subject_value', value=nan)\n",
      "└── Node('/root/s1', type='statement', value=None)\n",
      "    ├── Node('/root/s1/p0', type='predicate', value=None)\n",
      "    │   ├── Node('/root/s1/p0/subject', type='subject', value=nan)\n",
      "    │   ├── Node('/root/s1/p0/property', type='property', value='scope 2 emissions')\n",
      "    │   ├── Node('/root/s1/p0/property_value', type='property_value', value='41,757')\n",
      "    │   └── Node('/root/s1/p0/subject_value', type='subject_value', value=nan)\n",
      "    ├── Node('/root/s1/p1', type='predicate', value=None)\n",
      "    │   ├── Node('/root/s1/p1/subject', type='subject', value=nan)\n",
      "    │   ├── Node('/root/s1/p1/property', type='property', value='unit')\n",
      "    │   ├── Node('/root/s1/p1/property_value', type='property_value', value='mt')\n",
      "    │   └── Node('/root/s1/p1/subject_value', type='subject_value', value=nan)\n",
      "    └── Node('/root/s1/p2', type='predicate', value=None)\n",
      "        ├── Node('/root/s1/p2/subject', type='subject', value=nan)\n",
      "        ├── Node('/root/s1/p2/property', type='property', value='other')\n",
      "        ├── Node('/root/s1/p2/property_value', type='property_value', value='2021')\n",
      "        └── Node('/root/s1/p2/subject_value', type='subject_value', value=nan)\n"
     ]
    }
   ],
   "source": [
    "# Now we get all the statements from the example prediction\n",
    "dfs = [parser.convert_markdown_to_dataframe(item) for item in example_prediction]\n",
    "s = StatementTree(dfs)\n",
    "s.print_tree()"
   ]
  },
  {
   "cell_type": "markdown",
   "metadata": {},
   "source": [
    "# Example Tree Similarity Score"
   ]
  },
  {
   "cell_type": "code",
   "execution_count": 6,
   "metadata": {},
   "outputs": [
    {
     "data": {
      "text/plain": [
       "Node('/root', type='root', value=None)"
      ]
     },
     "execution_count": 6,
     "metadata": {},
     "output_type": "execute_result"
    }
   ],
   "source": [
    "# let's calculate the TSS of S (from above) with itself. We expect it to be 1.\n",
    "# for this we will pass the root node of the tree as t1 and as t2\n",
    "# the root node is:\n",
    "s.root"
   ]
  },
  {
   "cell_type": "code",
   "execution_count": 7,
   "metadata": {},
   "outputs": [
    {
     "data": {
      "text/plain": [
       "1"
      ]
     },
     "execution_count": 7,
     "metadata": {},
     "output_type": "execute_result"
    }
   ],
   "source": [
    "tss = TSS(node_t1=s.root,node_t2=s.root,include_subjects=True )\n",
    "tss.get_tree_similarity()"
   ]
  },
  {
   "cell_type": "code",
   "execution_count": 8,
   "metadata": {},
   "outputs": [
    {
     "data": {
      "text/plain": [
       "(Node('/root/s0', type='statement', value=None),\n",
       " Node('/root/s1', type='statement', value=None))"
      ]
     },
     "execution_count": 8,
     "metadata": {},
     "output_type": "execute_result"
    }
   ],
   "source": [
    "# consider the children from the root node:\n",
    "s.root.children"
   ]
  },
  {
   "cell_type": "code",
   "execution_count": 9,
   "metadata": {},
   "outputs": [
    {
     "data": {
      "text/plain": [
       "0.6372549019607843"
      ]
     },
     "execution_count": 9,
     "metadata": {},
     "output_type": "execute_result"
    }
   ],
   "source": [
    "# let's compute the TSS between these two children trees. For this we will pass the two child nodes as the two tree (starting points).\n",
    "tss = TSS(node_t1=s.root.children[0], node_t2=s.root.children[1], include_subjects=True)\n",
    "tss.get_tree_similarity()"
   ]
  },
  {
   "cell_type": "code",
   "execution_count": 10,
   "metadata": {},
   "outputs": [
    {
     "name": "stdout",
     "output_type": "stream",
     "text": [
      "The edit distance is : 0.7254901960784313\n",
      "The edits are: {'delete': 0, 'insert': 0, 'rename': 2}\n"
     ]
    }
   ],
   "source": [
    "# the two trees are 63% similar. Let's try to understand this number.\n",
    "ted, edits = tss.get_tree_edit_distance()\n",
    "print(f\"The edit distance is : {ted}\")\n",
    "print(f\"The edits are: {edits}\")"
   ]
  },
  {
   "cell_type": "code",
   "execution_count": 11,
   "metadata": {},
   "outputs": [
    {
     "name": "stdout",
     "output_type": "stream",
     "text": [
      "Step: 4: === Rename. Contribution to distance: 0.058823529411764705\n",
      "(Node('/root/s0/p0/property', type='property', value='scope 1 emissions'), Node('/root/s1/p0/property', type='property', value='scope 2 emissions'))\n",
      "Step: 5: === Rename. Contribution to distance: 0.6666666666666666\n",
      "(Node('/root/s0/p0/property_value', type='property_value', value='5,558'), Node('/root/s1/p0/property_value', type='property_value', value='41,757'))\n",
      " ===== \n",
      "Missing steps may be due to: (1) nodes with none values or (2) rename of node with same type and value but different location in tree. To see all steps anyway, use 'explain_tree_edit_distance' and set vv to True.\n",
      "  ===== \n",
      "\n"
     ]
    },
    {
     "data": {
      "text/plain": [
       "{'delete': 0, 'insert': 0, 'rename': 2}"
      ]
     },
     "execution_count": 11,
     "metadata": {},
     "output_type": "execute_result"
    }
   ],
   "source": [
    "# let's call the explain_tree_edit_distance method to understand the Tree Edit Distance, first.\n",
    "tss.explain_tree_edit_distance(verbose=True)"
   ]
  },
  {
   "cell_type": "code",
   "execution_count": 12,
   "metadata": {},
   "outputs": [
    {
     "name": "stdout",
     "output_type": "stream",
     "text": [
      "Edit distance for property: 0.058823529411764705\n",
      "Edit distance for property value : 0.6666666666666666\n"
     ]
    }
   ],
   "source": [
    "# we see that the two edits are:\n",
    "# 'scope 1 emissions' to 'scope 2 emissions'\n",
    "# '5,558' to '41,757'\n",
    "# these string edits contribute via their normalized Levenstein edit distance.\n",
    "# the individual contributions are: \n",
    "contribution_1 = 1/len('scope 2 emissions') \n",
    "# here the first numerator has 1, because only one character was changed\n",
    "contribution_2 = 4/len('41,757')\n",
    "# and the second numerator has 4, because 4 characters were changed\n",
    "print(f\"Edit distance for property: {contribution_1}\")\n",
    "print(f\"Edit distance for property value : {contribution_2}\")"
   ]
  },
  {
   "cell_type": "code",
   "execution_count": 13,
   "metadata": {},
   "outputs": [
    {
     "name": "stdout",
     "output_type": "stream",
     "text": [
      "0.7254901960784313 0.3627450980392157 0.6372549019607843\n"
     ]
    }
   ],
   "source": [
    "ted = contribution_1 + contribution_2\n",
    "normalized_ted = ted/(2) # total edits = 2\n",
    "tss = 1-normalized_ted\n",
    "print(ted, normalized_ted, tss)"
   ]
  }
 ],
 "metadata": {
  "kernelspec": {
   "display_name": "venv",
   "language": "python",
   "name": "python3"
  },
  "language_info": {
   "codemirror_mode": {
    "name": "ipython",
    "version": 3
   },
   "file_extension": ".py",
   "mimetype": "text/x-python",
   "name": "python",
   "nbconvert_exporter": "python",
   "pygments_lexer": "ipython3",
   "version": "3.9.16"
  },
  "orig_nbformat": 4
 },
 "nbformat": 4,
 "nbformat_minor": 2
}
